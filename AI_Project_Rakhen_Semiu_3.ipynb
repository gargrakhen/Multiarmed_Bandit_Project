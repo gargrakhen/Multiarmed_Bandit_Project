{
 "cells": [
  {
   "cell_type": "markdown",
   "metadata": {},
   "source": [
    "# Application of Annealing Epsilon Greedy Strategy in Multi-Armed Bandit Problem"
   ]
  },
  {
   "cell_type": "markdown",
   "metadata": {},
   "source": [
    "Demerits of Epsilon-Greedy Strategy\n",
    "-Estimation suffers from high uncertainity\n",
    "-Every time we have to set up epsilon values to test our strategy"
   ]
  },
  {
   "cell_type": "markdown",
   "metadata": {},
   "source": [
    "Why we have thought of applying Annealing Epsilon Strategy in the Reinforcement Learning code that we have previously designed for Epsilon Greedy Strategy\n",
    "-So that we can avoid setting up the epsilon values \n",
    "-This was the only way out to make our algorithm parameter free"
   ]
  },
  {
   "cell_type": "markdown",
   "metadata": {},
   "source": [
    "Importing necessary libraries"
   ]
  },
  {
   "cell_type": "code",
   "execution_count": 9,
   "metadata": {},
   "outputs": [],
   "source": [
    "import numpy as np\n",
    "import matplotlib.pyplot as plt"
   ]
  },
  {
   "cell_type": "markdown",
   "metadata": {},
   "source": [
    "Initializing the number of machines"
   ]
  },
  {
   "cell_type": "code",
   "execution_count": 10,
   "metadata": {},
   "outputs": [
    {
     "name": "stdout",
     "output_type": "stream",
     "text": [
      "The number of the slot machine: 50\n"
     ]
    }
   ],
   "source": [
    "number_of_slot_machines = int(input(\"The number of the slot machine: \")) "
   ]
  },
  {
   "cell_type": "markdown",
   "metadata": {},
   "source": [
    "Creates an array of the size of slot machine with Jackpot Probability based on the range"
   ]
  },
  {
   "cell_type": "code",
   "execution_count": 11,
   "metadata": {},
   "outputs": [],
   "source": [
    "np.random.seed(100)\n",
    "JPs =  np.random.uniform(0,1, number_of_slot_machines)"
   ]
  },
  {
   "cell_type": "markdown",
   "metadata": {},
   "source": [
    "Formalization of the Agent Playing at the each machine"
   ]
  },
  {
   "cell_type": "code",
   "execution_count": 12,
   "metadata": {},
   "outputs": [],
   "source": [
    "def play_machine(slot_machine):\n",
    "  x = np.random.uniform(0, 1)\n",
    "  if (x <= JPs[slot_machine]):\n",
    "    return(10)\n",
    "  else:\n",
    "    return(-1)"
   ]
  },
  {
   "cell_type": "markdown",
   "metadata": {},
   "source": [
    "Reinforcement Learning Code"
   ]
  },
  {
   "cell_type": "code",
   "execution_count": 13,
   "metadata": {},
   "outputs": [],
   "source": [
    "def multi_armed_bandit(arms, iterations):\n",
    "    total_reward =  []\n",
    "    optimal_action = []\n",
    "    estimated_payout_odds = np.zeros(arms)\n",
    "    count = np.zeros(arms)\n",
    "    for i in range(0, iterations):\n",
    "        #Greedy-Epsilon-Annealing Concept Implementation\n",
    "        t = np.sum(count) + 1\n",
    "        epsilon = 1 / np.log(t + 0.0000001)\n",
    "        epsilon_random = np.random.uniform(0, 1)\n",
    "        if epsilon_random > epsilon :\n",
    "            # exploit\n",
    "            action = np.argmax(estimated_payout_odds)\n",
    "        else:\n",
    "            # explore\n",
    "            action = np.random.choice(np.arange(arms))\n",
    "            \n",
    "        reward = play_machine(action)\n",
    "        estimated_payout_odds[action] = estimated_payout_odds[action] + (1/(count[action]+1)) * (reward - estimated_payout_odds[action])\n",
    "        \n",
    "        total_reward.append(reward)\n",
    "        optimal_action.append(action == np.argmax(estimated_payout_odds))\n",
    "        count[action] += 1\n",
    "        \n",
    "    return(estimated_payout_odds, total_reward)"
   ]
  },
  {
   "cell_type": "markdown",
   "metadata": {},
   "source": [
    "Reinforcement Learning has been applied in the above function"
   ]
  },
  {
   "cell_type": "markdown",
   "metadata": {},
   "source": [
    "Testing of Reinforcement Learning code by providing inputs. Specifically our focus will be to analyze how Jackpot Probability of each Slot machine would be when we had involved annealing epsilon value"
   ]
  },
  {
   "cell_type": "code",
   "execution_count": 14,
   "metadata": {},
   "outputs": [
    {
     "name": "stdout",
     "output_type": "stream",
     "text": [
      "Actual Odds\n"
     ]
    },
    {
     "data": {
      "image/png": "[encoded data removed]",
      "text/plain": [
       "<Figure size 432x288 with 1 Axes>"
      ]
     },
     "metadata": {},
     "output_type": "display_data"
    },
    {
     "name": "stdout",
     "output_type": "stream",
     "text": [
      "--------------------------------------------------------\n",
      "[0.54340494 0.27836939 0.42451759 0.84477613 0.00471886 0.12156912\n",
      " 0.67074908 0.82585276 0.13670659 0.57509333 0.89132195 0.20920212\n",
      " 0.18532822 0.10837689 0.21969749 0.97862378 0.81168315 0.17194101\n",
      " 0.81622475 0.27407375 0.43170418 0.94002982 0.81764938 0.33611195\n",
      " 0.17541045 0.37283205 0.00568851 0.25242635 0.79566251 0.01525497\n",
      " 0.59884338 0.60380454 0.10514769 0.38194344 0.03647606 0.89041156\n",
      " 0.98092086 0.05994199 0.89054594 0.5769015  0.74247969 0.63018394\n",
      " 0.58184219 0.02043913 0.21002658 0.54468488 0.76911517 0.25069523\n",
      " 0.28589569 0.85239509]\n",
      "--------------------------------------------------------\n"
     ]
    }
   ],
   "source": [
    "print(\"Actual Odds\")\n",
    "plt.bar(np.arange(len(JPs)),JPs)\n",
    "plt.show()\n",
    "print(\"--------------------------------------------------------\")\n",
    "print(JPs)\n",
    "print(\"--------------------------------------------------------\")"
   ]
  },
  {
   "cell_type": "markdown",
   "metadata": {},
   "source": [
    "Assigning the value of the iterations"
   ]
  },
  {
   "cell_type": "code",
   "execution_count": 15,
   "metadata": {},
   "outputs": [
    {
     "name": "stdout",
     "output_type": "stream",
     "text": [
      "The number of iteration: 5000\n"
     ]
    }
   ],
   "source": [
    "iterations = int(input(\"The number of iteration: \"))"
   ]
  },
  {
   "cell_type": "markdown",
   "metadata": {},
   "source": [
    "Using the value of the iterations, slot machines and calling main function "
   ]
  },
  {
   "cell_type": "code",
   "execution_count": 16,
   "metadata": {},
   "outputs": [
    {
     "name": "stdout",
     "output_type": "stream",
     "text": [
      "-------------------------------------------\n",
      "Learned Odds with decaying value of epsilon\n",
      "-------------------------------------------\n"
     ]
    },
    {
     "data": {
      "image/png": "[encoded data removed]",
      "text/plain": [
       "<Figure size 432x288 with 1 Axes>"
      ]
     },
     "metadata": {},
     "output_type": "display_data"
    },
    {
     "name": "stdout",
     "output_type": "stream",
     "text": [
      "[ 5.11  2.3   2.67  8.5  -0.31  0.83  5.    7.46 -1.    5.    9.54  1.75\n",
      "  1.   -1.   -1.    9.73  9.42  1.36  8.53  2.38  1.36  9.68  9.74  3.63\n",
      " -0.21  2.14 -1.    1.93  7.56 -1.    6.94  7.    1.    2.67 -0.39  9.54\n",
      "  9.81 -1.    9.04  5.6   6.56  6.86  6.86 -1.    2.44  4.5   7.13  1.75\n",
      "  2.14  7.11]\n",
      "Reward: 44731\n"
     ]
    }
   ],
   "source": [
    "print(\"-------------------------------------------\")\n",
    "print (\"Learned Odds with decaying value of epsilon\")\n",
    "print(\"-------------------------------------------\")\n",
    "learned_payout_odds, reward = multi_armed_bandit(number_of_slot_machines, iterations)\n",
    "plt.bar(np.arange(len(learned_payout_odds)), learned_payout_odds)\n",
    "plt.show()\n",
    "print(np.round(learned_payout_odds,2))\n",
    "print(\"Reward:\", sum(reward))"
   ]
  },
  {
   "cell_type": "markdown",
   "metadata": {},
   "source": [
    "-If we compare these results with the ones that we had obtained when epsilon value was 0.1, 0 or 1 we could analyze there was a lot of exploration at first\n",
    "-Then the algorithm had exploited slot machines more evidently by selecting the best available options\n",
    "-The reward value is pretty high but its less as compared to the results when epsilon was 0.1\n",
    "-All we can say higher cumulative rewards"
   ]
  }
 ],
 "metadata": {
  "kernelspec": {
   "display_name": "Python 3",
   "language": "python",
   "name": "python3"
  },
  "language_info": {
   "codemirror_mode": {
    "name": "ipython",
    "version": 3
   },
   "file_extension": ".py",
   "mimetype": "text/x-python",
   "name": "python",
   "nbconvert_exporter": "python",
   "pygments_lexer": "ipython3",
   "version": "3.6.5"
  }
 },
 "nbformat": 4,
 "nbformat_minor": 2
}

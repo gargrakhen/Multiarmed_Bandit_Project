{
 "cells": [
  {
   "cell_type": "markdown",
   "metadata": {},
   "source": [
    "# Understanding Multi-Armed Bandit Problem"
   ]
  },
  {
   "cell_type": "markdown",
   "metadata": {},
   "source": [
    "Importing neccesary libaries "
   ]
  },
  {
   "cell_type": "code",
   "execution_count": 49,
   "metadata": {},
   "outputs": [],
   "source": [
    "import numpy as np\n",
    "import matplotlib.pyplot as plt"
   ]
  },
  {
   "cell_type": "markdown",
   "metadata": {},
   "source": [
    "Assigning value to the number of machines"
   ]
  },
  {
   "cell_type": "code",
   "execution_count": 50,
   "metadata": {},
   "outputs": [
    {
     "name": "stdout",
     "output_type": "stream",
     "text": [
      "The number of the slot machine: 5\n"
     ]
    }
   ],
   "source": [
    "number_of_slot_machines = int(input(\"The number of the slot machine: \")) "
   ]
  },
  {
   "cell_type": "markdown",
   "metadata": {},
   "source": [
    "Creates an array of the size of the number of slot machines with Jackpot Probability values"
   ]
  },
  {
   "cell_type": "code",
   "execution_count": 51,
   "metadata": {},
   "outputs": [],
   "source": [
    "np.random.seed(100)\n",
    "JPs =  np.random.uniform(0,1, number_of_slot_machines)"
   ]
  },
  {
   "cell_type": "markdown",
   "metadata": {},
   "source": [
    "Printing the Jackpot Probability array i.e: JPs"
   ]
  },
  {
   "cell_type": "code",
   "execution_count": 52,
   "metadata": {},
   "outputs": [
    {
     "name": "stdout",
     "output_type": "stream",
     "text": [
      "[0.54340494 0.27836939 0.42451759 0.84477613 0.00471886]\n"
     ]
    }
   ],
   "source": [
    "print(JPs)"
   ]
  },
  {
   "cell_type": "markdown",
   "metadata": {},
   "source": [
    "Plotting the Jackpot Probability Values for the number of the Slot Machines"
   ]
  },
  {
   "cell_type": "code",
   "execution_count": 53,
   "metadata": {},
   "outputs": [
    {
     "data": {
      "image/png": "[encoded data removed]",
      "text/plain": [
       "<Figure size 432x288 with 1 Axes>"
      ]
     },
     "metadata": {},
     "output_type": "display_data"
    }
   ],
   "source": [
    "plt.bar(np.arange(len(JPs)),JPs)\n",
    "plt.show()"
   ]
  },
  {
   "cell_type": "markdown",
   "metadata": {},
   "source": [
    "Key Highlights from the above graph\n",
    "-First Machine agent tried its payout is generous but not the best\n",
    "-Fourth Machine pays best i.e: 84% payout rate and its the best machine in the environment\n",
    "-Fifth Machine has the worst odds of paying out a jackpot"
   ]
  },
  {
   "cell_type": "markdown",
   "metadata": {},
   "source": [
    "In the above code agent does not have any idea on the payout rates so it is discovering for best payout rate by pullying each slot machine. "
   ]
  },
  {
   "cell_type": "markdown",
   "metadata": {},
   "source": [
    "Understanding Exploitation and Exploration Concept: In case agent would have just sticked to the first machine i.e: choosing explotation over exploration the agent would never have figured out the best playing slot machine "
   ]
  },
  {
   "cell_type": "markdown",
   "metadata": {},
   "source": [
    "At start of our simulation we want our agent to assume tht Jackpot Probability of each slot machine is zero initially. \n",
    "So we are creating an array of zeros as Jackpot Probability"
   ]
  },
  {
   "cell_type": "code",
   "execution_count": 54,
   "metadata": {},
   "outputs": [],
   "source": [
    "known_JPs = np.zeros(number_of_slot_machines)"
   ]
  },
  {
   "cell_type": "markdown",
   "metadata": {},
   "source": [
    "Printing the Jackpot Probability array of zeros"
   ]
  },
  {
   "cell_type": "code",
   "execution_count": 55,
   "metadata": {},
   "outputs": [
    {
     "name": "stdout",
     "output_type": "stream",
     "text": [
      "[0. 0. 0. 0. 0.]\n"
     ]
    }
   ],
   "source": [
    "print (known_JPs)"
   ]
  },
  {
   "cell_type": "markdown",
   "metadata": {},
   "source": [
    "Creating a simulation of slot machine"
   ]
  },
  {
   "cell_type": "code",
   "execution_count": 56,
   "metadata": {},
   "outputs": [],
   "source": [
    "def play_machine(slot_machine):\n",
    "  x = np.random.uniform(0, 1)\n",
    "  if (x <= JPs[slot_machine]):\n",
    "    return(10)\n",
    "  else:\n",
    "    return(-1)"
   ]
  },
  {
   "cell_type": "markdown",
   "metadata": {},
   "source": [
    "When we will execute the above simulation of slot machine of the machine pays out a reward of 10 will be paid but if it does not a negative reward of 1 will be paid. In next step we are going to test out simulation."
   ]
  },
  {
   "cell_type": "code",
   "execution_count": 57,
   "metadata": {},
   "outputs": [
    {
     "name": "stdout",
     "output_type": "stream",
     "text": [
      "10\n",
      "10\n",
      "10\n",
      "10\n",
      "10\n",
      "-1\n",
      "10\n",
      "10\n",
      "10\n",
      "10\n",
      "------\n",
      "-1\n",
      "-1\n",
      "-1\n",
      "-1\n",
      "-1\n",
      "-1\n",
      "-1\n",
      "-1\n",
      "-1\n",
      "-1\n"
     ]
    }
   ],
   "source": [
    "# Test Slot Machine 4\n",
    "for machines in range(10):\n",
    "  print(play_machine(3))\n",
    "print (\"------\")      \n",
    "# Test Slot Machine 5\n",
    "for machines in range(10):\n",
    "  print(play_machine(4))"
   ]
  },
  {
   "cell_type": "markdown",
   "metadata": {},
   "source": [
    "Above as we are exploiting Machine 4 and Machine 5 ther is no guarantee of the output results. The results should be like majority of 10 values for Machine 4 and nearly all -1 values for Machine 5"
   ]
  },
  {
   "cell_type": "markdown",
   "metadata": {},
   "source": [
    "From our above analysis we can say simulated slot machine code is behaving as expected. Next we will understand the application of Epsilon Greedy Strategy which is focused towards Reinforcement Learning"
   ]
  }
 ],
 "metadata": {
  "kernelspec": {
   "display_name": "Python 3",
   "language": "python",
   "name": "python3"
  },
  "language_info": {
   "codemirror_mode": {
    "name": "ipython",
    "version": 3
   },
   "file_extension": ".py",
   "mimetype": "text/x-python",
   "name": "python",
   "nbconvert_exporter": "python",
   "pygments_lexer": "ipython3",
   "version": "3.6.5"
  }
 },
 "nbformat": 4,
 "nbformat_minor": 2
}

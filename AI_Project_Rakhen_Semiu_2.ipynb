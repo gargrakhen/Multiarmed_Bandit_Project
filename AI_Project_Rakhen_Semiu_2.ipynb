{
 "cells": [
  {
   "cell_type": "markdown",
   "metadata": {},
   "source": [
    "# Understanding  Application of Epsilon Greedy Strategy in Multi-Armed Bandit Problem"
   ]
  },
  {
   "cell_type": "markdown",
   "metadata": {},
   "source": [
    "Key Points\n",
    "-Agent does not knows anything about the environment initially so first it explores and then it exploits\n",
    "-Agent chooses any of the random slot machines in Epsilon Greedy with the best odds of payout observed so far\n",
    "-Agent may also try another machine hoping that provides a better payout\n",
    "-Values of Epsilon will play an important role in determining the behavior of agent"
   ]
  },
  {
   "cell_type": "markdown",
   "metadata": {},
   "source": [
    "Importing necessary libraries"
   ]
  },
  {
   "cell_type": "code",
   "execution_count": 1,
   "metadata": {},
   "outputs": [],
   "source": [
    "import numpy as np\n",
    "import matplotlib.pyplot as plt"
   ]
  },
  {
   "cell_type": "markdown",
   "metadata": {},
   "source": [
    "Assigning the number of machines of the slot machines"
   ]
  },
  {
   "cell_type": "code",
   "execution_count": 155,
   "metadata": {},
   "outputs": [
    {
     "name": "stdout",
     "output_type": "stream",
     "text": [
      "The number of the slot machine: 10\n"
     ]
    }
   ],
   "source": [
    "number_of_slot_machines = int(input(\"The number of the slot machine: \")) "
   ]
  },
  {
   "cell_type": "markdown",
   "metadata": {},
   "source": [
    "Assigning the number of iteration"
   ]
  },
  {
   "cell_type": "code",
   "execution_count": 156,
   "metadata": {},
   "outputs": [
    {
     "name": "stdout",
     "output_type": "stream",
     "text": [
      "The number of iteration: 1400\n"
     ]
    }
   ],
   "source": [
    "iterations = int(input(\"The number of iteration: \"))"
   ]
  },
  {
   "cell_type": "markdown",
   "metadata": {},
   "source": [
    "Creates an array of the size of the slot machines with their Jackpot Probability values."
   ]
  },
  {
   "cell_type": "code",
   "execution_count": 157,
   "metadata": {},
   "outputs": [],
   "source": [
    "np.random.seed(100)\n",
    "JPs =  np.random.uniform(0,1, number_of_slot_machines)"
   ]
  },
  {
   "cell_type": "markdown",
   "metadata": {},
   "source": [
    "The function that guides the agent's actions"
   ]
  },
  {
   "cell_type": "code",
   "execution_count": 158,
   "metadata": {},
   "outputs": [],
   "source": [
    "def play_machine(slot_machine):\n",
    "  x = np.random.uniform(0, 1)\n",
    "  if (x <= JPs[slot_machine]):\n",
    "    return(10)\n",
    "  else:\n",
    "    return(-1)"
   ]
  },
  {
   "cell_type": "markdown",
   "metadata": {},
   "source": [
    "Reinforcement Learning Code"
   ]
  },
  {
   "cell_type": "code",
   "execution_count": 159,
   "metadata": {},
   "outputs": [],
   "source": [
    "def multi_armed_bandit(arms, iterations, epsilon):\n",
    "    total_reward =  []\n",
    "    optimal_action = []\n",
    "    estimated_payout_odds = np.zeros(arms)\n",
    "    count = np.zeros(arms)\n",
    "    for i in range(0, iterations):\n",
    "        epsilon_random = np.random.uniform(0, 1)\n",
    "        if epsilon_random > epsilon :\n",
    "            # exploit\n",
    "            action = np.argmax(estimated_payout_odds)\n",
    "        else:\n",
    "            # explore\n",
    "            action = np.random.choice(np.arange(arms))\n",
    "            \n",
    "        reward = play_machine(action)\n",
    "        estimated_payout_odds[action] = estimated_payout_odds[action] + (1/(count[action]+1)) * (reward - estimated_payout_odds[action])\n",
    "        \n",
    "        total_reward.append(reward)\n",
    "        optimal_action.append(action == np.argmax(estimated_payout_odds))\n",
    "        count[action] += 1\n",
    "        \n",
    "    return(estimated_payout_odds, total_reward)"
   ]
  },
  {
   "cell_type": "markdown",
   "metadata": {},
   "source": [
    "How the above code works:\n",
    "-Input to multi_armed_bandit function stimulates a series of runs amongst slot machines\n",
    "-In each iteration agent randomly plays the slot machine considering the best payout it has observed so for or may even try another slot machine\n",
    "-argmax function returns the highest value in the numpy array i.e: the best slot for hitting the jackpot\n",
    "-function parameters allows control over number of slot machines, number of iterations to run and the value of epsilon\n"
   ]
  },
  {
   "cell_type": "markdown",
   "metadata": {},
   "source": [
    "Reinforcement Learning has been applied in the above function"
   ]
  },
  {
   "cell_type": "markdown",
   "metadata": {},
   "source": [
    "Testing of Reinforcement Learning code by providing inputs. Specifically our focus will be on epsilon values"
   ]
  },
  {
   "cell_type": "markdown",
   "metadata": {},
   "source": [
    "Case1: When Epsilon Value of 0.1 is given as input"
   ]
  },
  {
   "cell_type": "code",
   "execution_count": 160,
   "metadata": {},
   "outputs": [
    {
     "name": "stdout",
     "output_type": "stream",
     "text": [
      "Actual Odds\n",
      "[0.54340494 0.27836939 0.42451759 0.84477613 0.00471886 0.12156912\n",
      " 0.67074908 0.82585276 0.13670659 0.57509333]\n",
      "---------------------\n"
     ]
    },
    {
     "data": {
      "image/png": "[encoded data removed]",
      "text/plain": [
       "<Figure size 432x288 with 1 Axes>"
      ]
     },
     "metadata": {},
     "output_type": "display_data"
    }
   ],
   "source": [
    "print (\"Actual Odds\")\n",
    "plt.bar(np.arange(len(JPs)),JPs)\n",
    "plt.show\n",
    "print (JPs)\n",
    "print(\"---------------------\")"
   ]
  },
  {
   "cell_type": "markdown",
   "metadata": {},
   "source": [
    "Defining iterations and epsilon value"
   ]
  },
  {
   "cell_type": "code",
   "execution_count": 161,
   "metadata": {},
   "outputs": [
    {
     "name": "stdout",
     "output_type": "stream",
     "text": [
      "The value of the Epsilon: 0.06\n"
     ]
    }
   ],
   "source": [
    "epsilon = float(input(\"The value of the Epsilon: \"))"
   ]
  },
  {
   "cell_type": "code",
   "execution_count": 162,
   "metadata": {},
   "outputs": [
    {
     "name": "stdout",
     "output_type": "stream",
     "text": [
      "\n",
      "--------------------------------------\n",
      "Learned Odds with epsilon value of  0.06\n",
      "\n",
      "--------------------------------------\n"
     ]
    },
    {
     "data": {
      "image/png": "[encoded data removed]",
      "text/plain": [
       "<Figure size 432x288 with 1 Axes>"
      ]
     },
     "metadata": {},
     "output_type": "display_data"
    },
    {
     "name": "stdout",
     "output_type": "stream",
     "text": [
      "[ 5.29605263  2.38461538  2.66666667  5.28571429 -1.         -1.\n",
      "  4.5         8.24528302  1.2         6.85714286]\n",
      "Reward: 10634\n"
     ]
    }
   ],
   "source": [
    "print(\"\\n--------------------------------------\")\n",
    "print (\"Learned Odds with epsilon value of \", epsilon)\n",
    "print(\"\\n--------------------------------------\")\n",
    "learned_payout_odds, reward = multi_armed_bandit(number_of_slot_machines, iterations, epsilon)\n",
    "plt.bar(np.arange(len(learned_payout_odds)), learned_payout_odds)\n",
    "plt.show()\n",
    "print(learned_payout_odds)\n",
    "print(\"Reward:\", sum(reward))"
   ]
  }
 ],
 "metadata": {
  "kernelspec": {
   "display_name": "Python 3",
   "language": "python",
   "name": "python3"
  },
  "language_info": {
   "codemirror_mode": {
    "name": "ipython",
    "version": 3
   },
   "file_extension": ".py",
   "mimetype": "text/x-python",
   "name": "python",
   "nbconvert_exporter": "python",
   "pygments_lexer": "ipython3",
   "version": "3.6.5"
  }
 },
 "nbformat": 4,
 "nbformat_minor": 2
}
